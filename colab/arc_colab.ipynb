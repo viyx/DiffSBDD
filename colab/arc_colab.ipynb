{
  "cells": [
    {
      "cell_type": "code",
      "execution_count": null,
      "metadata": {
        "colab": {
          "base_uri": "https://localhost:8080/"
        },
        "id": "iAiLo8O8klSG",
        "outputId": "86297426-81b4-49d9-ba04-46ebf87bc15b"
      },
      "outputs": [],
      "source": [
        "#@title  Install condacolab (the kernel will be restarted, after that you can execute the remaining cells)\n",
        "!pip install -q condacolab\n",
        "import condacolab\n",
        "condacolab.install()"
      ]
    },
    {
      "cell_type": "code",
      "execution_count": null,
      "metadata": {
        "id": "Y3vp5mzfurJk"
      },
      "outputs": [],
      "source": [
        "!git clone https://github.com/viyx/DiffSBDD.git -b dev -q"
      ]
    },
    {
      "cell_type": "code",
      "execution_count": null,
      "metadata": {
        "colab": {
          "base_uri": "https://localhost:8080/"
        },
        "id": "wGtTkUQ2WBtp",
        "outputId": "f0eb3c3a-405b-4017-b7f4-5e6adc4eac8e"
      },
      "outputs": [],
      "source": [
        "%cd DiffSBDD"
      ]
    },
    {
      "cell_type": "code",
      "execution_count": null,
      "metadata": {
        "collapsed": true,
        "id": "0mCaMCoJUn20"
      },
      "outputs": [],
      "source": [
        "!mamba env update -q -n base -f environment.yml"
      ]
    },
    {
      "cell_type": "code",
      "execution_count": null,
      "metadata": {
        "colab": {
          "base_uri": "https://localhost:8080/"
        },
        "id": "WoOD0KTNiwOU",
        "outputId": "4694feee-81a3-4b3d-dc85-424d1807f84e"
      },
      "outputs": [],
      "source": [
        "!mamba list | grep light"
      ]
    },
    {
      "cell_type": "code",
      "execution_count": null,
      "metadata": {
        "id": "_YMwoMhV4J7X"
      },
      "outputs": [],
      "source": [
        "!gdown -q --folder https://drive.google.com/drive/folders/15mWPGCasbsKgoG6Fyy003K-9qj4I7Btf -O /content/DiffSBDD/data/arc/"
      ]
    },
    {
      "cell_type": "code",
      "execution_count": null,
      "metadata": {
        "colab": {
          "base_uri": "https://localhost:8080/"
        },
        "id": "uDcjZDtrez-m",
        "outputId": "48f8beab-59b6-41bf-db58-d8724bcb79a9"
      },
      "outputs": [],
      "source": [
        "!python -u train.py --config /content/DiffSBDD/configs/arc_cond.yml"
      ]
    },
    {
      "cell_type": "code",
      "execution_count": null,
      "metadata": {
        "id": "IsIlGIUDgaEI"
      },
      "outputs": [],
      "source": []
    }
  ],
  "metadata": {
    "accelerator": "GPU",
    "colab": {
      "gpuType": "T4",
      "provenance": []
    },
    "kernelspec": {
      "display_name": "Python 3",
      "name": "python3"
    },
    "language_info": {
      "name": "python"
    }
  },
  "nbformat": 4,
  "nbformat_minor": 0
}
