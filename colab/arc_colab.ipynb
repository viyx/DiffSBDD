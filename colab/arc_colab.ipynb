{
  "cells": [
    {
      "cell_type": "code",
      "execution_count": null,
      "metadata": {
        "id": "iAiLo8O8klSG",
        "outputId": "86297426-81b4-49d9-ba04-46ebf87bc15b",
        "colab": {
          "base_uri": "https://localhost:8080/"
        }
      },
      "outputs": [
        {
          "output_type": "stream",
          "name": "stdout",
          "text": [
            "⏬ Downloading https://github.com/jaimergp/miniforge/releases/download/24.11.2-1_colab/Miniforge3-colab-24.11.2-1_colab-Linux-x86_64.sh...\n",
            "📦 Installing...\n",
            "📌 Adjusting configuration...\n",
            "🩹 Patching environment...\n",
            "⏲ Done in 0:00:13\n",
            "🔁 Restarting kernel...\n"
          ]
        }
      ],
      "source": [
        "#@title  Install condacolab (the kernel will be restarted, after that you can execute the remaining cells)\n",
        "!pip install -q condacolab\n",
        "import condacolab\n",
        "condacolab.install()"
      ]
    },
    {
      "cell_type": "code",
      "source": [
        "!git clone https://github.com/viyx/DiffSBDD.git -b dev -q"
      ],
      "metadata": {
        "id": "Y3vp5mzfurJk"
      },
      "execution_count": null,
      "outputs": []
    },
    {
      "cell_type": "code",
      "source": [
        "%cd DiffSBDD"
      ],
      "metadata": {
        "colab": {
          "base_uri": "https://localhost:8080/"
        },
        "id": "wGtTkUQ2WBtp",
        "outputId": "f0eb3c3a-405b-4017-b7f4-5e6adc4eac8e"
      },
      "execution_count": null,
      "outputs": [
        {
          "output_type": "stream",
          "name": "stdout",
          "text": [
            "/content/DiffSBDD\n"
          ]
        }
      ]
    },
    {
      "cell_type": "code",
      "source": [
        "!mamba env update -q -n base -f environment.yml"
      ],
      "metadata": {
        "collapsed": true,
        "id": "0mCaMCoJUn20"
      },
      "execution_count": null,
      "outputs": []
    },
    {
      "cell_type": "code",
      "source": [
        "!mamba list | grep light"
      ],
      "metadata": {
        "colab": {
          "base_uri": "https://localhost:8080/"
        },
        "id": "WoOD0KTNiwOU",
        "outputId": "4694feee-81a3-4b3d-dc85-424d1807f84e"
      },
      "execution_count": null,
      "outputs": [
        {
          "output_type": "stream",
          "name": "stdout",
          "text": [
            "lightning-utilities       0.11.9             pyhd8ed1ab_1    conda-forge\n",
            "pytorch-lightning         2.5.0.post0        pyh101cb37_0    conda-forge\n"
          ]
        }
      ]
    },
    {
      "cell_type": "code",
      "source": [
        "!gdown -q --folder https://drive.google.com/drive/folders/15mWPGCasbsKgoG6Fyy003K-9qj4I7Btf -O /content/DiffSBDD/data/arc/"
      ],
      "metadata": {
        "id": "_YMwoMhV4J7X"
      },
      "execution_count": null,
      "outputs": []
    },
    {
      "cell_type": "code",
      "source": [
        "!python -u train.py --config /content/DiffSBDD/configs/arc_cond.yml"
      ],
      "metadata": {
        "id": "uDcjZDtrez-m",
        "colab": {
          "base_uri": "https://localhost:8080/"
        },
        "outputId": "48f8beab-59b6-41bf-db58-d8724bcb79a9"
      },
      "execution_count": null,
      "outputs": [
        {
          "output_type": "stream",
          "name": "stdout",
          "text": [
            "alphas2 [9.99990000e-01 9.99790014e-01 9.99190176e-01 9.98190846e-01\n",
            " 9.96792624e-01 9.94996350e-01 9.92803104e-01 9.90214206e-01\n",
            " 9.87231215e-01 9.83855933e-01 9.80090398e-01 9.75936891e-01\n",
            " 9.71397932e-01 9.66476280e-01 9.61174936e-01 9.55497140e-01\n",
            " 9.49446371e-01 9.43026349e-01 9.36241035e-01 9.29094628e-01\n",
            " 9.21591568e-01 9.13736535e-01 9.05534449e-01 8.96990470e-01\n",
            " 8.88109998e-01 8.78898672e-01 8.69362373e-01 8.59507220e-01\n",
            " 8.49339573e-01 8.38866033e-01 8.28093438e-01 8.17028869e-01\n",
            " 8.05679646e-01 7.94053329e-01 7.82157717e-01 7.70000850e-01\n",
            " 7.57591008e-01 7.44936711e-01 7.32046719e-01 7.18930031e-01\n",
            " 7.05595888e-01 6.92053769e-01 6.78313394e-01 6.64384722e-01\n",
            " 6.50277954e-01 6.36003530e-01 6.21572129e-01 6.06994670e-01\n",
            " 5.92282314e-01 5.77446461e-01 5.62498750e-01 5.47451061e-01\n",
            " 5.32315514e-01 5.17104468e-01 5.01830523e-01 4.86506520e-01\n",
            " 4.71145537e-01 4.55760895e-01 4.40366153e-01 4.24975111e-01\n",
            " 4.09601808e-01 3.94260525e-01 3.78965781e-01 3.63732335e-01\n",
            " 3.48575189e-01 3.33509580e-01 3.18550989e-01 3.03715136e-01\n",
            " 2.89017980e-01 2.74475721e-01 2.60104798e-01 2.45921892e-01\n",
            " 2.31943921e-01 2.18188046e-01 2.04671667e-01 1.91412422e-01\n",
            " 1.78428192e-01 1.65737095e-01 1.53357493e-01 1.41307984e-01\n",
            " 1.29607408e-01 1.18274845e-01 1.07329614e-01 9.67912743e-02\n",
            " 8.66796266e-02 7.70147099e-02 6.78168038e-02 5.91064280e-02\n",
            " 5.09043421e-02 4.32315456e-02 3.61092780e-02 2.95590190e-02\n",
            " 2.36024881e-02 1.82616450e-02 1.35586890e-02 9.51605987e-03\n",
            " 6.15643707e-03 3.50274014e-03 1.57812864e-03 4.06002080e-04\n",
            " 1.03960021e-05]\n",
            "gamma [-1.15129155e+01 -8.46825969e+00 -7.11788346e+00 -6.31308514e+00\n",
            " -5.73908957e+00 -5.29257140e+00 -4.92688250e+00 -4.61698950e+00\n",
            " -4.34790077e+00 -4.10992684e+00 -3.89644268e+00 -3.70271801e+00\n",
            " -3.52525717e+00 -3.36140352e+00 -3.20909042e+00 -3.06667831e+00\n",
            " -2.93284431e+00 -2.80650533e+00 -2.68676316e+00 -2.57286439e+00\n",
            " -2.46417067e+00 -2.36013612e+00 -2.26029009e+00 -2.16422373e+00\n",
            " -2.07157934e+00 -1.98204200e+00 -1.89533275e+00 -1.81120312e+00\n",
            " -1.72943060e+00 -1.64981490e+00 -1.57217491e+00 -1.49634605e+00\n",
            " -1.42217810e+00 -1.34953337e+00 -1.27828507e+00 -1.20831600e+00\n",
            " -1.13951732e+00 -1.07178756e+00 -1.00503169e+00 -9.39160402e-01\n",
            " -8.74089323e-01 -8.09738460e-01 -7.46031614e-01 -6.82895885e-01\n",
            " -6.20261210e-01 -5.58059943e-01 -4.96226469e-01 -4.34696836e-01\n",
            " -3.73408415e-01 -3.12299572e-01 -2.51309349e-01 -1.90377161e-01\n",
            " -1.29442490e-01 -6.84445791e-02 -7.32212627e-03  5.39870292e-02\n",
            "  1.15546234e-01  1.77420363e-01  2.39676180e-01  3.02382722e-01\n",
            "  3.65611723e-01  4.29438063e-01  4.93940271e-01  5.59201076e-01\n",
            "  6.25308026e-01  6.92354176e-01  7.60438876e-01  8.29668656e-01\n",
            "  9.00158242e-01  9.72031730e-01  1.04542394e+00  1.12048198e+00\n",
            "  1.19736713e+00  1.27625695e+00  1.35734796e+00  1.44085862e+00\n",
            "  1.52703311e+00  1.61614582e+00  1.70850678e+00  1.80446853e+00\n",
            "  1.90443442e+00  2.00886928e+00  2.11831280e+00  2.23339682e+00\n",
            "  2.35486785e+00  2.48361686e+00  2.62071935e+00  2.76749035e+00\n",
            "  2.92556137e+00  3.09699096e+00  3.28442809e+00  3.49136168e+00\n",
            "  3.72251765e+00  3.98452188e+00  4.28707623e+00  4.64521277e+00\n",
            "  5.08408160e+00  5.65070083e+00  6.44993617e+00  7.80874619e+00\n",
            "  1.14740788e+01]\n",
            "Entropy of n_nodes: H[N] 2.484527826309204\n",
            "GPU available: True (cuda), used: True\n",
            "TPU available: False, using: 0 TPU cores\n",
            "HPU available: False, using: 0 HPUs\n",
            "\u001b[34m\u001b[1mwandb\u001b[0m: (1) Create a W&B account\n",
            "\u001b[34m\u001b[1mwandb\u001b[0m: (2) Use an existing W&B account\n",
            "\u001b[34m\u001b[1mwandb\u001b[0m: (3) Don't visualize my results\n",
            "\u001b[34m\u001b[1mwandb\u001b[0m: Enter your choice: 2\n",
            "\u001b[34m\u001b[1mwandb\u001b[0m: You chose 'Use an existing W&B account'\n",
            "\u001b[34m\u001b[1mwandb\u001b[0m: Logging into wandb.ai. (Learn how to deploy a W&B server locally: https://wandb.me/wandb-server)\n",
            "\u001b[34m\u001b[1mwandb\u001b[0m: You can find your API key in your browser here: https://wandb.ai/authorize\n",
            "\u001b[34m\u001b[1mwandb\u001b[0m: Paste an API key from your profile and hit enter, or press ctrl+c to quit: \n",
            "\u001b[34m\u001b[1mwandb\u001b[0m: Appending key for api.wandb.ai to your netrc file: /root/.netrc\n",
            "\u001b[34m\u001b[1mwandb\u001b[0m: Using wandb-core as the SDK backend.  Please refer to https://wandb.me/wandb-core for more information.\n",
            "\u001b[34m\u001b[1mwandb\u001b[0m: Tracking run with wandb version 0.19.4\n",
            "\u001b[34m\u001b[1mwandb\u001b[0m: Run data is saved locally in \u001b[35m\u001b[1m./logs/wandb/run-20250120_165741-wsisbdw7\u001b[0m\n",
            "\u001b[34m\u001b[1mwandb\u001b[0m: Run \u001b[1m`wandb offline`\u001b[0m to turn off syncing.\n",
            "\u001b[34m\u001b[1mwandb\u001b[0m: Syncing run \u001b[33msunny-wave-70\u001b[0m\n",
            "\u001b[34m\u001b[1mwandb\u001b[0m: ⭐️ View project at \u001b[34m\u001b[4mhttps://wandb.ai/viy/ligand-pocket-ddpm\u001b[0m\n",
            "\u001b[34m\u001b[1mwandb\u001b[0m: 🚀 View run at \u001b[34m\u001b[4mhttps://wandb.ai/viy/ligand-pocket-ddpm/runs/wsisbdw7\u001b[0m\n",
            "LOCAL_RANK: 0 - CUDA_VISIBLE_DEVICES: [0]\n",
            "\n",
            "  | Name | Type            | Params | Mode \n",
            "-------------------------------------------------\n",
            "0 | ddpm | ConditionalDDPM | 23.8 K | train\n",
            "-------------------------------------------------\n",
            "23.7 K    Trainable params\n",
            "101       Non-trainable params\n",
            "23.8 K    Total params\n",
            "0.095     Total estimated model params size (MB)\n",
            "54        Modules in train mode\n",
            "0         Modules in eval mode\n",
            "Epoch 0:  10% 2460/25000 [24:12<3:41:47,  1.69it/s, v_num=bdw7, loss/train=0.0585]\n",
            "Detected KeyboardInterrupt, attempting graceful shutdown ...\n",
            "\u001b[1;34mwandb\u001b[0m: \n",
            "\u001b[1;34mwandb\u001b[0m: 🚀 View run \u001b[33msunny-wave-70\u001b[0m at: \u001b[34mhttps://wandb.ai/viy/ligand-pocket-ddpm/runs/wsisbdw7\u001b[0m\n",
            "Epoch 0:  10%|▉         | 2460/25000 [24:17<3:42:36,  1.69it/s, v_num=bdw7, loss/train=0.0585]\n"
          ]
        }
      ]
    },
    {
      "cell_type": "code",
      "source": [],
      "metadata": {
        "id": "IsIlGIUDgaEI"
      },
      "execution_count": null,
      "outputs": []
    }
  ],
  "metadata": {
    "colab": {
      "provenance": [],
      "gpuType": "T4"
    },
    "kernelspec": {
      "display_name": "Python 3",
      "name": "python3"
    },
    "language_info": {
      "name": "python"
    },
    "accelerator": "GPU"
  },
  "nbformat": 4,
  "nbformat_minor": 0
}