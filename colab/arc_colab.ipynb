{
  "cells": [
    {
      "cell_type": "markdown",
      "metadata": {
        "id": "m12HrhIsNKkS"
      },
      "source": [
        "# DiffSBDD: Structure-based Drug Design with Equivariant Diffusion Models\n",
        "\n",
        "[**[Paper]**](https://arxiv.org/abs/2210.13695)\n",
        "[**[Code]**](https://github.com/arneschneuing/DiffSBDD)\n",
        "\n",
        "Make sure to select `Runtime` -> `Change runtime type` -> `GPU` before you run the script.\n",
        "\n",
        "<img src=\"https://raw.githubusercontent.com/arneschneuing/DiffSBDD/main/img/overview.png\" height=250>"
      ]
    },
    {
      "cell_type": "code",
      "execution_count": null,
      "metadata": {
        "cellView": "form",
        "id": "iAiLo8O8klSG"
      },
      "outputs": [],
      "source": [
        "#@title  Install condacolab (the kernel will be restarted, after that you can execute the remaining cells)\n",
        "!pip install -q condacolab\n",
        "import condacolab\n",
        "condacolab.install()"
      ]
    },
    {
      "cell_type": "code",
      "execution_count": 1,
      "metadata": {
        "cellView": "form",
        "id": "EP4ZKFGN7KTZ"
      },
      "outputs": [],
      "source": [
        "#@title Install dependencies (this will take about 5 minutes)\n",
        "%%capture\n",
        "%%bash\n",
        "\n",
        "set -e # Exit immediately if a command exits with a non-zero status.\n",
        "\n",
        "if [ ! -f /content/READY ]; then\n",
        "\n",
        "  # pip\n",
        "  pip install torch==1.12.1 --extra-index-url https://download.pytorch.org/whl/cu116 >/dev/null\n",
        "  pip install pytorch-lightning==1.8.4 >/dev/null\n",
        "  pip install wandb==0.13.1 >/dev/null\n",
        "  pip install rdkit==2022.3.3 >/dev/null\n",
        "  pip install biopython==1.79 >/dev/null\n",
        "  pip install imageio==2.21.2 >/dev/null\n",
        "  pip install scipy==1.7.3 >/dev/null\n",
        "  pip install pyg-lib torch-scatter -f https://data.pyg.org/whl/torch-1.12.0+cu116.html >/dev/null\n",
        "  pip install networkx==2.8.6 >/dev/null\n",
        "  pip install py3Dmol==1.8.1 >/dev/null\n",
        "\n",
        "  # conda\n",
        "  conda install openbabel -c conda-forge >/dev/null\n",
        "\n",
        "  # GitHub\n",
        "  git clone \n",
        "\n",
        "  touch READY\n",
        "fi"
      ]
    },
    {
      "cell_type": "markdown",
      "metadata": {
        "id": "e46yNUYbdqZ3"
      },
      "source": [
        "## Choose target PDB"
      ]
    }
  ],
  "metadata": {
    "accelerator": "GPU",
    "colab": {
      "provenance": []
    },
    "kernelspec": {
      "display_name": "Python 3",
      "name": "python3"
    },
    "language_info": {
      "name": "python"
    },
    "widgets": {
      "application/vnd.jupyter.widget-state+json": {
        "129573722a154fcb97f6380984363312": {
          "model_module": "@jupyter-widgets/base",
          "model_module_version": "1.2.0",
          "model_name": "LayoutModel",
          "state": {
            "_model_module": "@jupyter-widgets/base",
            "_model_module_version": "1.2.0",
            "_model_name": "LayoutModel",
            "_view_count": null,
            "_view_module": "@jupyter-widgets/base",
            "_view_module_version": "1.2.0",
            "_view_name": "LayoutView",
            "align_content": null,
            "align_items": null,
            "align_self": null,
            "border": null,
            "bottom": null,
            "display": null,
            "flex": null,
            "flex_flow": null,
            "grid_area": null,
            "grid_auto_columns": null,
            "grid_auto_flow": null,
            "grid_auto_rows": null,
            "grid_column": null,
            "grid_gap": null,
            "grid_row": null,
            "grid_template_areas": null,
            "grid_template_columns": null,
            "grid_template_rows": null,
            "height": null,
            "justify_content": null,
            "justify_items": null,
            "left": null,
            "margin": null,
            "max_height": null,
            "max_width": null,
            "min_height": null,
            "min_width": null,
            "object_fit": null,
            "object_position": null,
            "order": null,
            "overflow": null,
            "overflow_x": null,
            "overflow_y": null,
            "padding": null,
            "right": null,
            "top": null,
            "visibility": null,
            "width": null
          }
        },
        "7185905e0f7c4ce9a932d745ae8806bd": {
          "model_module": "@jupyter-widgets/controls",
          "model_module_version": "1.5.0",
          "model_name": "TextModel",
          "state": {
            "_dom_classes": [],
            "_model_module": "@jupyter-widgets/controls",
            "_model_module_version": "1.5.0",
            "_model_name": "TextModel",
            "_view_count": null,
            "_view_module": "@jupyter-widgets/controls",
            "_view_module_version": "1.5.0",
            "_view_name": "TextView",
            "continuous_update": true,
            "description": "",
            "description_tooltip": null,
            "disabled": false,
            "layout": "IPY_MODEL_129573722a154fcb97f6380984363312",
            "placeholder": "​",
            "style": "IPY_MODEL_aba7c218a6cc47e0a90b248458dc9fd3",
            "value": "A:330"
          }
        },
        "aba7c218a6cc47e0a90b248458dc9fd3": {
          "model_module": "@jupyter-widgets/controls",
          "model_module_version": "1.5.0",
          "model_name": "DescriptionStyleModel",
          "state": {
            "_model_module": "@jupyter-widgets/controls",
            "_model_module_version": "1.5.0",
            "_model_name": "DescriptionStyleModel",
            "_view_count": null,
            "_view_module": "@jupyter-widgets/base",
            "_view_module_version": "1.2.0",
            "_view_name": "StyleView",
            "description_width": ""
          }
        }
      }
    }
  },
  "nbformat": 4,
  "nbformat_minor": 0
}
